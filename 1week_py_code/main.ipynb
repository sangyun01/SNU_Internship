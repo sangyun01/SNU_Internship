{
 "cells": [
  {
   "cell_type": "code",
   "execution_count": 15,
   "id": "c9db3728",
   "metadata": {},
   "outputs": [],
   "source": [
    "import numpy as np\n",
    "import time\n",
    "import pwlf\n",
    "import torch"
   ]
  },
  {
   "cell_type": "code",
   "execution_count": 16,
   "id": "252e8987",
   "metadata": {},
   "outputs": [],
   "source": [
    "# Generate input\n",
    "N, embedding_dim = 100, 768\n",
    "np_embeddings = np.random.randn(N, embedding_dim).astype(np.float32)\n",
    "torch_input = torch.tensor(np_embeddings, dtype=torch.float32)"
   ]
  },
  {
   "cell_type": "code",
   "execution_count": 17,
   "id": "48087d22",
   "metadata": {},
   "outputs": [],
   "source": [
    "# Variance methods\n",
    "def true_variance(x):\n",
    "    mean = x.mean(axis=-1, keepdims=True)\n",
    "    return ((x - mean) ** 2).mean(axis=-1, keepdims=True)\n",
    "\n",
    "\n",
    "def one_pass_variance(x):\n",
    "    mean = x.mean(axis=-1, keepdims=True)\n",
    "    mean_sq = (x**2).mean(axis=-1, keepdims=True)\n",
    "    return mean_sq - mean**2\n",
    "\n",
    "\n",
    "def pairwise_variance(x):\n",
    "    splits = np.split(x, 4, axis=-1)  # G1, G2, G3, G4\n",
    "    n = [s.shape[-1] for s in splits]\n",
    "    mu = [s.mean(axis=-1, keepdims=True) for s in splits]\n",
    "    var = [s.var(axis=-1, keepdims=True) for s in splits]\n",
    "\n",
    "    delta12 = mu[0] - mu[1]\n",
    "    intVar1 = var[0] + var[1] + (delta12**2) * (n[0] * n[1]) / (n[0] + n[1])\n",
    "\n",
    "    delta34 = mu[2] - mu[3]\n",
    "    intVar2 = var[2] + var[3] + (delta34**2) * (n[2] * n[3]) / (n[2] + n[3])\n",
    "\n",
    "    mu12 = (mu[0] * n[0] + mu[1] * n[1]) / (n[0] + n[1])\n",
    "    mu34 = (mu[2] * n[2] + mu[3] * n[3]) / (n[2] + n[3])\n",
    "    delta = mu12 - mu34\n",
    "    correction = (delta**2) * ((n[0] + n[1]) * (n[2] + n[3])) / sum(n)\n",
    "\n",
    "    return intVar1 + intVar2 + correction"
   ]
  },
  {
   "cell_type": "code",
   "execution_count": 18,
   "id": "b2e2df0a",
   "metadata": {},
   "outputs": [],
   "source": [
    "# PWL fit\n",
    "x_vals = np.linspace(0.01, 128, 1000)\n",
    "sqrt_vals = np.sqrt(x_vals)\n",
    "recip_vals = 1 / sqrt_vals\n",
    "\n",
    "sqrt_model = pwlf.PiecewiseLinFit(x_vals, sqrt_vals)\n",
    "sqrt_breaks = sqrt_model.fit(8)\n",
    "sqrt_slopes = sqrt_model.slopes\n",
    "sqrt_intercepts = sqrt_model.intercepts\n",
    "\n",
    "recip_model = pwlf.PiecewiseLinFit(x_vals, recip_vals)\n",
    "recip_breaks = recip_model.fit(8)\n",
    "recip_slopes = recip_model.slopes\n",
    "recip_intercepts = recip_model.intercepts\n",
    "\n",
    "\n",
    "# PWL approximation\n",
    "def pwl_approx(x, breakpoints, slopes, intercepts):\n",
    "    x = np.clip(x, breakpoints[0], breakpoints[-1])\n",
    "    out = np.zeros_like(x)\n",
    "    for i in range(len(slopes)):\n",
    "        mask = (x >= breakpoints[i]) & (x < breakpoints[i + 1])\n",
    "        out[mask] = slopes[i] * x[mask] + intercepts[i]\n",
    "    out[x >= breakpoints[-1]] = slopes[-1] * x[x >= breakpoints[-1]] + intercepts[-1]\n",
    "    return out"
   ]
  },
  {
   "cell_type": "code",
   "execution_count": 19,
   "id": "22386a97",
   "metadata": {},
   "outputs": [],
   "source": [
    "# Timer\n",
    "def measure_time(func, *args):\n",
    "    start = time.perf_counter()\n",
    "    result = func(*args)\n",
    "    end = time.perf_counter()\n",
    "    return result, (end - start) * 1000"
   ]
  },
  {
   "cell_type": "code",
   "execution_count": 20,
   "id": "0841a745",
   "metadata": {},
   "outputs": [],
   "source": [
    "# Measure variance\n",
    "x = np_embeddings\n",
    "true_var, t_true = measure_time(true_variance, x)\n",
    "onepass_var, t_onepass = measure_time(one_pass_variance, x)\n",
    "pairwise_var, t_pairwise = measure_time(pairwise_variance, x)\n",
    "\n",
    "# PyTorch variance (ground truth)\n",
    "with torch.no_grad():\n",
    "    var_torch = torch.var(torch_input, dim=-1, unbiased=False, keepdim=True).numpy()\n",
    "\n",
    "# Accuracy (% error)\n",
    "acc_true = 100 - np.abs(true_var - var_torch) / (var_torch + 1e-8) * 100\n",
    "acc_one = 100 - np.abs(onepass_var - var_torch) / (var_torch + 1e-8) * 100\n",
    "acc_pair = 100 - np.abs(pairwise_var - var_torch) / (var_torch + 1e-8) * 100\n",
    "\n",
    "# Sqrt & reciprocal comparisons\n",
    "sqrt_exact, t_sqrt_exact = measure_time(np.sqrt, true_var + 1e-5)\n",
    "sqrt_pwl, t_sqrt = measure_time(\n",
    "    pwl_approx, true_var + 1e-5, sqrt_breaks, sqrt_slopes, sqrt_intercepts\n",
    ")\n",
    "\n",
    "recip_exact, t_recip_exact = measure_time(np.reciprocal, sqrt_exact)\n",
    "recip_pwl, t_recip = measure_time(\n",
    "    pwl_approx, sqrt_pwl, recip_breaks, recip_slopes, recip_intercepts\n",
    ")\n",
    "\n",
    "acc_sqrt = 100 - np.abs(sqrt_exact - sqrt_pwl) / (sqrt_exact + 1e-8) * 100\n",
    "acc_recip = 100 - np.abs(recip_exact - recip_pwl) / (recip_exact + 1e-8) * 100"
   ]
  },
  {
   "cell_type": "code",
   "execution_count": 21,
   "id": "d8b9b2f2",
   "metadata": {},
   "outputs": [
    {
     "name": "stdout",
     "output_type": "stream",
     "text": [
      "===== Accuracy (% Error vs PyTorch) =====\n",
      "[True Var]     100.0000%\n",
      "[One-Pass Var] 100.0000%\n",
      "[Pairwise Var] -530.5366%\n",
      "[Sqrt PWL]     94.3164%\n",
      "[Recip PWL]    99.3772%\n",
      "\n",
      "===== Timing (ms) =====\n",
      "[True Var]        0.3033 ms\n",
      "[One-Pass Var]    0.1147 ms\n",
      "[Pairwise Var]    0.4376 ms\n",
      "[Sqrt Exact]      0.0021 ms\n",
      "[Sqrt PWL]        0.0994 ms\n",
      "[Recip Exact]     0.0033 ms\n",
      "[Recip PWL]       0.0675 ms\n"
     ]
    }
   ],
   "source": [
    "# Print results\n",
    "print(\"===== Accuracy (% Error vs PyTorch) =====\")\n",
    "print(f\"[True Var]     {acc_true.mean():.4f}%\")\n",
    "print(f\"[One-Pass Var] {acc_one.mean():.4f}%\")\n",
    "print(f\"[Pairwise Var] {acc_pair.mean():.4f}%\")\n",
    "print(f\"[Sqrt PWL]     {acc_sqrt.mean():.4f}%\")\n",
    "print(f\"[Recip PWL]    {acc_recip.mean():.4f}%\")\n",
    "\n",
    "print(\"\\n===== Timing (ms) =====\")\n",
    "print(f\"[True Var]        {t_true:.4f} ms\")\n",
    "print(f\"[One-Pass Var]    {t_onepass:.4f} ms\")\n",
    "print(f\"[Pairwise Var]    {t_pairwise:.4f} ms\")\n",
    "print(f\"[Sqrt Exact]      {t_sqrt_exact:.4f} ms\")\n",
    "print(f\"[Sqrt PWL]        {t_sqrt:.4f} ms\")\n",
    "print(f\"[Recip Exact]     {t_recip_exact:.4f} ms\")\n",
    "print(f\"[Recip PWL]       {t_recip:.4f} ms\")"
   ]
  },
  {
   "cell_type": "code",
   "execution_count": null,
   "id": "fef281f9",
   "metadata": {},
   "outputs": [],
   "source": []
  }
 ],
 "metadata": {
  "kernelspec": {
   "display_name": "Python 3",
   "language": "python",
   "name": "python3"
  },
  "language_info": {
   "codemirror_mode": {
    "name": "ipython",
    "version": 3
   },
   "file_extension": ".py",
   "mimetype": "text/x-python",
   "name": "python",
   "nbconvert_exporter": "python",
   "pygments_lexer": "ipython3",
   "version": "3.13.0"
  }
 },
 "nbformat": 4,
 "nbformat_minor": 5
}
