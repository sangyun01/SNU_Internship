{
 "cells": [
  {
   "cell_type": "code",
   "execution_count": 38,
   "id": "c9db3728",
   "metadata": {},
   "outputs": [],
   "source": [
    "import numpy as np\n",
    "import torch\n",
    "import pwlf"
   ]
  },
  {
   "cell_type": "code",
   "execution_count": 39,
   "id": "252e8987",
   "metadata": {},
   "outputs": [],
   "source": [
    "# === 입력 생성 ===\n",
    "N, D = 96, 768\n",
    "np_embeddings_f = np.random.randn(N, D).astype(np.float32)\n",
    "torch_input = torch.tensor(np_embeddings_f, dtype=torch.float32)"
   ]
  },
  {
   "cell_type": "code",
   "execution_count": 40,
   "id": "48087d22",
   "metadata": {},
   "outputs": [],
   "source": [
    "# === Q8.8 변환 함수 ===\n",
    "def float_to_q8_8(x):\n",
    "    return np.round(x * 256).astype(np.int16)\n",
    "\n",
    "\n",
    "def q8_8_to_float(x_q):\n",
    "    return x_q.astype(np.float32) / 256\n",
    "\n",
    "\n",
    "np_embeddings_q8_8 = float_to_q8_8(np_embeddings_f).astype(np.int32)"
   ]
  },
  {
   "cell_type": "code",
   "execution_count": 41,
   "id": "b2e2df0a",
   "metadata": {},
   "outputs": [],
   "source": [
    "# === Q8.8 기반 pairwise 분산 계산 ===\n",
    "def pairwise_variance_q8_8(x_q, G=16):\n",
    "    D = x_q.shape[-1]\n",
    "    splits = np.split(x_q, G, axis=-1)\n",
    "    n_list = [s.shape[-1] for s in splits]\n",
    "    mu_list = [np.sum(s, axis=-1, keepdims=True) // s.shape[-1] for s in splits]\n",
    "    M_list = [\n",
    "        np.sum(((s - mu).astype(np.int64)) ** 2, axis=-1, keepdims=True)\n",
    "        for s, mu in zip(splits, mu_list)\n",
    "    ]\n",
    "    while len(mu_list) > 1:\n",
    "        next_mu, next_M, next_n = [], [], []\n",
    "        for i in range(0, len(mu_list), 2):\n",
    "            μ1, μ2 = mu_list[i], mu_list[i + 1]\n",
    "            M1, M2 = M_list[i], M_list[i + 1]\n",
    "            n1, n2 = n_list[i], n_list[i + 1]\n",
    "            n_total = n1 + n2\n",
    "            delta = μ1 - μ2\n",
    "            delta_sq = (delta.astype(np.int64)) ** 2\n",
    "            delta_term = (delta_sq * n1 * n2) // n_total\n",
    "            M12 = M1 + M2 + delta_term\n",
    "            mu12 = (μ1 * n1 + μ2 * n2) // n_total\n",
    "            next_mu.append(mu12)\n",
    "            next_M.append(M12)\n",
    "            next_n.append(n_total)\n",
    "        mu_list, M_list, n_list = next_mu, next_M, next_n\n",
    "    var_q16 = M_list[0] // D\n",
    "    return q8_8_to_float(var_q16 // 256)"
   ]
  },
  {
   "cell_type": "code",
   "execution_count": 42,
   "id": "22386a97",
   "metadata": {},
   "outputs": [],
   "source": [
    "# === PWL 모델 준비 (sqrt, reciprocal) ===\n",
    "x_vals = np.linspace(0.01, 64, 1000)\n",
    "sqrt_vals = np.sqrt(x_vals)\n",
    "recip_vals = 1 / sqrt_vals\n",
    "\n",
    "sqrt_model = pwlf.PiecewiseLinFit(x_vals, sqrt_vals)\n",
    "sqrt_breaks = sqrt_model.fit(8)\n",
    "sqrt_slopes = sqrt_model.slopes\n",
    "sqrt_intercepts = sqrt_model.intercepts\n",
    "\n",
    "recip_model = pwlf.PiecewiseLinFit(x_vals, recip_vals)\n",
    "recip_breaks = recip_model.fit(8)\n",
    "recip_slopes = recip_model.slopes\n",
    "recip_intercepts = recip_model.intercepts"
   ]
  },
  {
   "cell_type": "code",
   "execution_count": 43,
   "id": "0841a745",
   "metadata": {},
   "outputs": [],
   "source": [
    "# === PWL 근사 함수 ===\n",
    "def pwl_approx(x, breakpoints, slopes, intercepts):\n",
    "    x = np.clip(x, breakpoints[0], breakpoints[-1])\n",
    "    out = np.zeros_like(x)\n",
    "    for i in range(len(slopes)):\n",
    "        mask = (x >= breakpoints[i]) & (x < breakpoints[i + 1])\n",
    "        out[mask] = slopes[i] * x[mask] + intercepts[i]\n",
    "    out[x >= breakpoints[-1]] = slopes[-1] * x[x >= breakpoints[-1]] + intercepts[-1]\n",
    "    return out"
   ]
  },
  {
   "cell_type": "code",
   "execution_count": 44,
   "id": "d8b9b2f2",
   "metadata": {},
   "outputs": [],
   "source": [
    "# === 최종 근사 LayerNorm ===\n",
    "def approx_layernorm_q8_8(x_q, eps=1e-5):\n",
    "    mu_q = np.mean(x_q, axis=-1, keepdims=True)\n",
    "    x_centered = x_q - mu_q\n",
    "    var_approx = pairwise_variance_q8_8(x_q)  # float\n",
    "    sqrt_val = pwl_approx(var_approx + eps, sqrt_breaks, sqrt_slopes, sqrt_intercepts)\n",
    "    recip_val = pwl_approx(sqrt_val, recip_breaks, recip_slopes, recip_intercepts)\n",
    "    x_float = q8_8_to_float(x_centered)\n",
    "    return x_float * recip_val"
   ]
  },
  {
   "cell_type": "code",
   "execution_count": 45,
   "id": "fef281f9",
   "metadata": {},
   "outputs": [],
   "source": [
    "# === 단계별 비교 ===\n",
    "\n",
    "# 1. Pairwise + 정확 sqrt + 정확 reciprocal\n",
    "var_pairwise = pairwise_variance_q8_8(np_embeddings_q8_8)\n",
    "sqrt_exact = np.sqrt(var_pairwise + 1e-5)\n",
    "recip_exact = 1.0 / sqrt_exact\n",
    "mu_q = np.mean(np_embeddings_q8_8, axis=-1, keepdims=True)\n",
    "Y_exact = q8_8_to_float(np_embeddings_q8_8 - mu_q) * recip_exact\n",
    "\n",
    "# 2. Pairwise + PWL sqrt + 정확 reciprocal\n",
    "sqrt_pwl = pwl_approx(var_pairwise + 1e-5, sqrt_breaks, sqrt_slopes, sqrt_intercepts)\n",
    "recip_exact2 = 1.0 / sqrt_pwl\n",
    "Y_pwl_sqrt = q8_8_to_float(np_embeddings_q8_8 - mu_q) * recip_exact2\n",
    "\n",
    "# 3. Pairwise + PWL sqrt + PWL reciprocal (최종 구조)\n",
    "recip_pwl = pwl_approx(sqrt_pwl, recip_breaks, recip_slopes, recip_intercepts)\n",
    "Y_pwl_full = q8_8_to_float(np_embeddings_q8_8 - mu_q) * recip_pwl"
   ]
  },
  {
   "cell_type": "code",
   "execution_count": 49,
   "id": "4c16999a",
   "metadata": {},
   "outputs": [
    {
     "name": "stdout",
     "output_type": "stream",
     "text": [
      "===== LayerNorm Approximation =====\n",
      "Relative Accuracy:    98.4236%\n"
     ]
    }
   ],
   "source": [
    "# === 기준값: PyTorch LayerNorm ===\n",
    "layernorm_torch = torch.nn.LayerNorm(D, elementwise_affine=False)\n",
    "Y_true = layernorm_torch(torch_input).numpy()\n",
    "\n",
    "# === 근사 계산값 ===\n",
    "Y_approx = approx_layernorm_q8_8(np_embeddings_q8_8)\n",
    "\n",
    "# === 정확도 측정 ===\n",
    "mae = np.mean(np.abs(Y_true - Y_approx))\n",
    "relative_acc = 100 - (mae / (np.abs(Y_true).mean() + 1e-8)) * 100\n",
    "\n",
    "print(\"===== LayerNorm Approximation =====\")\n",
    "print(f\"Relative Accuracy:    {relative_acc:.4f}%\")"
   ]
  },
  {
   "cell_type": "code",
   "execution_count": 50,
   "id": "d8c1aeb4",
   "metadata": {},
   "outputs": [
    {
     "name": "stdout",
     "output_type": "stream",
     "text": [
      "===== 단계별 정확도 비교 =====\n",
      "[1] Pairwise + Exact Sqrt/Recip   → Accuracy: 99.8412%\n",
      "[2] Pairwise + PWL Sqrt + Exact   → Accuracy: 99.2004%\n",
      "[3] Pairwise + PWL Sqrt + Recip   → Accuracy: 98.4236%\n"
     ]
    }
   ],
   "source": [
    "# 기준값\n",
    "Y_true = layernorm_torch(torch_input).numpy()\n",
    "\n",
    "\n",
    "# 정확도 비교\n",
    "def acc(y_hat):\n",
    "    return (\n",
    "        100 - (np.mean(np.abs(Y_true - y_hat)) / (np.mean(np.abs(Y_true)) + 1e-8)) * 100\n",
    "    )\n",
    "\n",
    "\n",
    "def mae(y_hat):\n",
    "    return np.mean(np.abs(Y_true - y_hat))\n",
    "\n",
    "\n",
    "print(\"===== 단계별 정확도 비교 =====\")\n",
    "print(\n",
    "    f\"[1] Pairwise + Exact Sqrt/Recip   → Accuracy: {acc(Y_exact):.4f}%\"\n",
    ")\n",
    "print(\n",
    "    f\"[2] Pairwise + PWL Sqrt + Exact   → Accuracy: {acc(Y_pwl_sqrt):.4f}%\"\n",
    ")\n",
    "print(\n",
    "    f\"[3] Pairwise + PWL Sqrt + Recip   → Accuracy: {acc(Y_pwl_full):.4f}%\"\n",
    ")"
   ]
  },
  {
   "cell_type": "code",
   "execution_count": null,
   "id": "1f7ded68",
   "metadata": {},
   "outputs": [],
   "source": []
  }
 ],
 "metadata": {
  "kernelspec": {
   "display_name": "Python 3",
   "language": "python",
   "name": "python3"
  },
  "language_info": {
   "codemirror_mode": {
    "name": "ipython",
    "version": 3
   },
   "file_extension": ".py",
   "mimetype": "text/x-python",
   "name": "python",
   "nbconvert_exporter": "python",
   "pygments_lexer": "ipython3",
   "version": "3.13.0"
  }
 },
 "nbformat": 4,
 "nbformat_minor": 5
}
