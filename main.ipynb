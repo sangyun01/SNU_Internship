{
 "cells": [
  {
   "cell_type": "code",
   "execution_count": 1,
   "id": "c9db3728",
   "metadata": {},
   "outputs": [],
   "source": [
    "import torch\n",
    "import numpy as np\n",
    "import tiktoken"
   ]
  },
  {
   "cell_type": "code",
   "execution_count": 2,
   "id": "252e8987",
   "metadata": {},
   "outputs": [],
   "source": [
    "# input the any text to check the code execution\n",
    "text = (\n",
    "    \"DFX : Low-latency FPGA Appliance for Accelerate Transformer based Text Generation\"\n",
    ")\n",
    "\n",
    "# using the subword method to using tiktoken\n",
    "enc = tiktoken.get_encoding(\"gpt2\")\n",
    "token_ids = enc.encode(text)\n",
    "embedding_dim = 768  # model : GPT 2\n",
    "np_embeddings = np.random.randn(len(token_ids), embedding_dim)"
   ]
  },
  {
   "cell_type": "code",
   "execution_count": 3,
   "id": "48087d22",
   "metadata": {},
   "outputs": [],
   "source": [
    "# embody to LN using NumPy\n",
    "def numpy_layer_norm(x, eps=1e-5):\n",
    "    mean = x.mean(axis=-1, keepdims=True)\n",
    "    var = ((x - mean) ** 2).mean(axis=-1, keepdims=True)\n",
    "    return (x - mean) / np.sqrt(var + eps)\n",
    "\n",
    "\n",
    "normalized_np = numpy_layer_norm(np_embeddings)"
   ]
  },
  {
   "cell_type": "code",
   "execution_count": 4,
   "id": "b2e2df0a",
   "metadata": {},
   "outputs": [],
   "source": [
    "# compare PyTorch(Checkint the work correctly the function, gamma and beta)\n",
    "torch_input = torch.tensor(np_embeddings, dtype=torch.float32)\n",
    "layer_norm = torch.nn.LayerNorm(embedding_dim)\n",
    "normalized_torch = layer_norm(torch_input)"
   ]
  },
  {
   "cell_type": "code",
   "execution_count": 5,
   "id": "22386a97",
   "metadata": {},
   "outputs": [
    {
     "name": "stdout",
     "output_type": "stream",
     "text": [
      "compare diff: 3.530453860313632e-08\n"
     ]
    }
   ],
   "source": [
    "diff = np.abs(normalized_np - normalized_torch.detach().numpy()).mean()\n",
    "print(\"compare diff:\", diff)"
   ]
  },
  {
   "cell_type": "code",
   "execution_count": null,
   "id": "0841a745",
   "metadata": {},
   "outputs": [],
   "source": []
  }
 ],
 "metadata": {
  "kernelspec": {
   "display_name": "Python 3",
   "language": "python",
   "name": "python3"
  },
  "language_info": {
   "codemirror_mode": {
    "name": "ipython",
    "version": 3
   },
   "file_extension": ".py",
   "mimetype": "text/x-python",
   "name": "python",
   "nbconvert_exporter": "python",
   "pygments_lexer": "ipython3",
   "version": "3.13.0"
  }
 },
 "nbformat": 4,
 "nbformat_minor": 5
}
