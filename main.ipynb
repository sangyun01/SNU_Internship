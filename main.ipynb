{
 "cells": [
  {
   "cell_type": "code",
   "execution_count": 6,
   "id": "c9db3728",
   "metadata": {},
   "outputs": [],
   "source": [
    "import numpy as np\n",
    "import time\n",
    "import pwlf\n",
    "import torch\n",
    "import tiktoken"
   ]
  },
  {
   "cell_type": "code",
   "execution_count": 16,
   "id": "252e8987",
   "metadata": {},
   "outputs": [
    {
     "name": "stdout",
     "output_type": "stream",
     "text": [
      "[PyTorch LN diff]: 3.2805353e-08\n"
     ]
    }
   ],
   "source": [
    "# input the any text to check the code execution\n",
    "text = (\n",
    "    \"DFX : Low-latency FPGA Appliance for Accelerate Transformer based Text Generation\"\n",
    "    \"DFX : Low-latency FPGA Appliance for Accelerate Transformer based Text Generation\"\n",
    "    \"DFX : Low-latency FPGA Appliance for Accelerate Transformer based Text Generation\"\n",
    "    \"DFX : Low-latency FPGA Appliance for Accelerate Transformer based Text Generation\"\n",
    ")\n",
    "enc = tiktoken.get_encoding(\"gpt2\")\n",
    "token_ids = enc.encode(text)\n",
    "embedding_dim = 768\n",
    "np_embeddings = np.random.randn(len(token_ids), embedding_dim).astype(np.float32)\n",
    "\n",
    "# Compare with PyTorch LayerNorm\n",
    "torch_input = torch.tensor(np_embeddings, dtype=torch.float32)\n",
    "layer_norm = torch.nn.LayerNorm(embedding_dim)\n",
    "normalized_torch = layer_norm(torch_input)\n",
    "normalized_np = (np_embeddings - np_embeddings.mean(axis=-1, keepdims=True)) / np.sqrt(\n",
    "    np.var(np_embeddings, axis=-1, keepdims=True) + 1e-5\n",
    ")\n",
    "diff = np.abs(normalized_np - normalized_torch.detach().numpy()).mean()\n",
    "print(\"[PyTorch LN diff]:\", diff)"
   ]
  },
  {
   "cell_type": "code",
   "execution_count": 17,
   "id": "48087d22",
   "metadata": {},
   "outputs": [],
   "source": [
    "# Variance calculation functions\n",
    "def true_variance(x):\n",
    "    mean = x.mean(axis=-1, keepdims=True)\n",
    "    return ((x - mean) ** 2).mean(axis=-1, keepdims=True)\n",
    "\n",
    "\n",
    "def one_pass_variance(x):\n",
    "    mean = x.mean(axis=-1, keepdims=True)\n",
    "    mean_sq = (x**2).mean(axis=-1, keepdims=True)\n",
    "    return mean_sq - mean**2\n",
    "\n",
    "\n",
    "def pairwise_variance(x):\n",
    "    N = x.shape[-1]\n",
    "    if N % 2 != 0:\n",
    "        x = x[..., :-1]\n",
    "        N -= 1\n",
    "    x1, x2 = x[..., : N // 2], x[..., N // 2 :]\n",
    "    mu1 = x1.mean(axis=-1, keepdims=True)\n",
    "    mu2 = x2.mean(axis=-1, keepdims=True)\n",
    "    var1 = ((x1 - mu1) ** 2).mean(axis=-1, keepdims=True)\n",
    "    var2 = ((x2 - mu2) ** 2).mean(axis=-1, keepdims=True)\n",
    "    delta = mu1 - mu2\n",
    "    return var1 + var2 + (delta**2) * (N // 2) * (N // 2) / N"
   ]
  },
  {
   "cell_type": "code",
   "execution_count": 18,
   "id": "b2e2df0a",
   "metadata": {},
   "outputs": [],
   "source": [
    "# PWL approximation function 8 stage\n",
    "def pwl_approx(x, breakpoints, slopes, intercepts):\n",
    "    x = np.clip(x, breakpoints[0], breakpoints[-1])\n",
    "    out = np.zeros_like(x)\n",
    "    for i in range(len(slopes)):\n",
    "        mask = (x >= breakpoints[i]) & (x < breakpoints[i + 1])\n",
    "        out[mask] = slopes[i] * x[mask] + intercepts[i]\n",
    "    out[x >= breakpoints[-1]] = slopes[-1] * x[x >= breakpoints[-1]] + intercepts[-1]\n",
    "    return out\n",
    "\n",
    "\n",
    "# Fit PWL for sqrt(x) and 1/sqrt(x)\n",
    "x_vals = np.linspace(0.01, 128, 1000)\n",
    "sqrt_vals = np.sqrt(x_vals)\n",
    "recip_vals = 1 / sqrt_vals\n",
    "\n",
    "sqrt_model = pwlf.PiecewiseLinFit(x_vals, sqrt_vals)\n",
    "sqrt_breaks = sqrt_model.fit(8)\n",
    "sqrt_slopes = sqrt_model.slopes\n",
    "sqrt_intercepts = sqrt_model.intercepts\n",
    "\n",
    "recip_model = pwlf.PiecewiseLinFit(x_vals, recip_vals)\n",
    "recip_breaks = recip_model.fit(8)\n",
    "recip_slopes = recip_model.slopes\n",
    "recip_intercepts = recip_model.intercepts"
   ]
  },
  {
   "cell_type": "code",
   "execution_count": 19,
   "id": "22386a97",
   "metadata": {},
   "outputs": [],
   "source": [
    "# Timing function\n",
    "def measure_time(func, *args):\n",
    "    start = time.perf_counter()\n",
    "    result = func(*args)\n",
    "    end = time.perf_counter()\n",
    "    return result, (end - start) * 1000  # in ms\n",
    "\n",
    "\n",
    "# Run tests on sample input\n",
    "x = np.random.randn(10, 768).astype(np.float32)\n",
    "\n",
    "true_var, t_true = measure_time(true_variance, x)\n",
    "onepass_var, t_onepass = measure_time(one_pass_variance, x)\n",
    "pairwise_var, t_pairwise = measure_time(pairwise_variance, x)\n",
    "\n",
    "sqrt_result, t_sqrt = measure_time(\n",
    "    pwl_approx, true_var + 1e-5, sqrt_breaks, sqrt_slopes, sqrt_intercepts\n",
    ")\n",
    "recip_result, t_recip = measure_time(\n",
    "    pwl_approx, sqrt_result, recip_breaks, recip_slopes, recip_intercepts\n",
    ")"
   ]
  },
  {
   "cell_type": "code",
   "execution_count": 20,
   "id": "0841a745",
   "metadata": {},
   "outputs": [
    {
     "name": "stdout",
     "output_type": "stream",
     "text": [
      "[True Variance]        0.0906 ms\n",
      "[One-pass Variance]    0.0483 ms\n",
      "[Pairwise Variance]    0.0969 ms\n",
      "[PWL sqrt approx]      0.1020 ms\n",
      "[PWL reciprocal approx]0.0952 ms\n"
     ]
    }
   ],
   "source": [
    "# Output timing results\n",
    "print(f\"[True Variance]        {t_true:.4f} ms\")\n",
    "print(f\"[One-pass Variance]    {t_onepass:.4f} ms\")\n",
    "print(f\"[Pairwise Variance]    {t_pairwise:.4f} ms\")\n",
    "print(f\"[PWL sqrt approx]      {t_sqrt:.4f} ms\")\n",
    "print(f\"[PWL reciprocal approx]{t_recip:.4f} ms\")"
   ]
  },
  {
   "cell_type": "code",
   "execution_count": null,
   "id": "d8b9b2f2",
   "metadata": {},
   "outputs": [],
   "source": []
  }
 ],
 "metadata": {
  "kernelspec": {
   "display_name": "Python 3",
   "language": "python",
   "name": "python3"
  },
  "language_info": {
   "codemirror_mode": {
    "name": "ipython",
    "version": 3
   },
   "file_extension": ".py",
   "mimetype": "text/x-python",
   "name": "python",
   "nbconvert_exporter": "python",
   "pygments_lexer": "ipython3",
   "version": "3.13.0"
  }
 },
 "nbformat": 4,
 "nbformat_minor": 5
}
