{
  "cells": [
    {
      "cell_type": "code",
      "execution_count": 1,
      "id": "a6489516",
      "metadata": {
        "id": "a6489516",
        "outputId": "1604eab9-4b82-462e-e7d7-9773a8f7af13"
      },
      "outputs": [],
      "source": [
        "import numpy as np\n",
        "import time\n",
        "import pwlf\n",
        "import torch\n",
        "\n"
      ]
    },
    {
      "cell_type": "code",
      "execution_count": 6,
      "id": "11a61915",
      "metadata": {
        "colab": {
          "base_uri": "https://localhost:8080/",
          "height": 472
        },
        "id": "11a61915",
        "outputId": "cd321cf6-0f3c-4c7d-f297-b2e29bb7b8a1"
      },
      "outputs": [],
      "source": [
        "# === PWL (Piecewise Linear) fitting ===\n",
        "x_vals = np.linspace(0.01, 64, 1000)\n",
        "sqrt_vals = np.sqrt(x_vals)\n",
        "recip_vals = 1 / sqrt_vals\n",
        "\n",
        "sqrt_model = pwlf.PiecewiseLinFit(x_vals, sqrt_vals)\n",
        "sqrt_breaks = sqrt_model.fit(8)\n",
        "sqrt_slopes = sqrt_model.slopes\n",
        "sqrt_intercepts = sqrt_model.intercepts\n",
        "\n",
        "recip_model = pwlf.PiecewiseLinFit(x_vals, recip_vals)\n",
        "recip_breaks = recip_model.fit(8)\n",
        "recip_slopes = recip_model.slopes\n",
        "recip_intercepts = recip_model.intercepts\n",
        "\n",
        "\n"
      ]
    },
    {
      "cell_type": "code",
      "execution_count": 8,
      "id": "fow9YoT510A6",
      "metadata": {
        "id": "fow9YoT510A6"
      },
      "outputs": [],
      "source": [
        "# === PWL approximation function ===\n",
        "def pwl_approx(x, breakpoints, slopes, intercepts):\n",
        "    x = np.clip(x, breakpoints[0], breakpoints[-1])\n",
        "    out = np.zeros_like(x)\n",
        "    for i in range(len(slopes)):\n",
        "        mask = (x >= breakpoints[i]) & (x < breakpoints[i + 1])\n",
        "        out[mask] = slopes[i] * x[mask] + intercepts[i]\n",
        "    out[x >= breakpoints[-1]] = slopes[-1] * x[x >= breakpoints[-1]] + intercepts[-1]\n",
        "    return out\n",
        "\n"
      ]
    },
    {
      "cell_type": "code",
      "execution_count": 9,
      "id": "8e9c7ce6",
      "metadata": {},
      "outputs": [
        {
          "name": "stdout",
          "output_type": "stream",
          "text": [
            "===== Accuracy (% Error) =====\n",
            "[Sqrt PWL]     Mean Accuracy: 99.1760%\n",
            "[Recip PWL]    Mean Accuracy: 97.9223%\n",
            "\n",
            "===== Timing (ms) =====\n",
            "[Sqrt Exact]   0.0075 ms\n",
            "[Sqrt PWL]     0.2757 ms\n",
            "[Recip Exact]  0.0080 ms\n",
            "[Recip PWL]    0.1549 ms\n"
          ]
        }
      ],
      "source": [
        "# === Timer utility ===\n",
        "def measure_time(func, *args):\n",
        "    start = time.perf_counter()\n",
        "    result = func(*args)\n",
        "    end = time.perf_counter()\n",
        "    return result, (end - start) * 1000  # return ms\n",
        "\n",
        "\n",
        "# === Input variance tensor ===\n",
        "N, D = 100, 768\n",
        "np_embeddings = np.random.randn(N, D).astype(np.float32)\n",
        "torch_input = torch.tensor(np_embeddings, dtype=torch.float32)\n",
        "\n",
        "# Ground-truth variance\n",
        "with torch.no_grad():\n",
        "    true_var = torch.var(torch_input, dim=-1, unbiased=False, keepdim=True).numpy()\n",
        "\n",
        "# === PWL vs Exact: Accuracy & Timing Comparison ===\n",
        "sqrt_exact, t_sqrt_exact = measure_time(np.sqrt, true_var + 1e-5)\n",
        "sqrt_pwl, t_sqrt_pwl = measure_time(\n",
        "    pwl_approx, true_var + 1e-5, sqrt_breaks, sqrt_slopes, sqrt_intercepts\n",
        ")\n",
        "\n",
        "recip_exact, t_recip_exact = measure_time(np.reciprocal, sqrt_exact)\n",
        "recip_pwl, t_recip_pwl = measure_time(\n",
        "    pwl_approx, sqrt_pwl, recip_breaks, recip_slopes, recip_intercepts\n",
        ")\n",
        "\n",
        "# === Accuracy ===\n",
        "acc_sqrt = 100 - np.abs(sqrt_exact - sqrt_pwl) / (sqrt_exact + 1e-8) * 100\n",
        "acc_recip = 100 - np.abs(recip_exact - recip_pwl) / (recip_exact + 1e-8) * 100\n",
        "\n",
        "# === Print results ===\n",
        "print(\"===== Accuracy (% Error) =====\")\n",
        "print(f\"[Sqrt PWL]     Mean Accuracy: {acc_sqrt.mean():.4f}%\")\n",
        "print(f\"[Recip PWL]    Mean Accuracy: {acc_recip.mean():.4f}%\")\n",
        "\n",
        "print(\"\\n===== Timing (ms) =====\")\n",
        "print(f\"[Sqrt Exact]   {t_sqrt_exact:.4f} ms\")\n",
        "print(f\"[Sqrt PWL]     {t_sqrt_pwl:.4f} ms\")\n",
        "print(f\"[Recip Exact]  {t_recip_exact:.4f} ms\")\n",
        "print(f\"[Recip PWL]    {t_recip_pwl:.4f} ms\")"
      ]
    },
    {
      "cell_type": "code",
      "execution_count": 10,
      "id": "388eb216",
      "metadata": {},
      "outputs": [
        {
          "name": "stdout",
          "output_type": "stream",
          "text": [
            "===== Accuracy (% Error) =====\n",
            "[Sqrt PWL]     Mean Accuracy: 99.2767%\n",
            "[Recip PWL]    Mean Accuracy: 98.1566%\n",
            "\n",
            "===== Timing (ms) =====\n",
            "[Sqrt Exact]   0.0081 ms\n",
            "[Sqrt PWL]     0.2141 ms\n",
            "[Recip Exact]  0.0047 ms\n",
            "[Recip PWL]    0.2011 ms\n"
          ]
        }
      ],
      "source": [
        "# === Verilog-style scalar PWL approximation ===\n",
        "def pwl_approx_scalar(x, breakpoints, slopes, intercepts):\n",
        "    if x < breakpoints[1]:\n",
        "        return slopes[0] * x + intercepts[0]\n",
        "    elif x < breakpoints[2]:\n",
        "        return slopes[1] * x + intercepts[1]\n",
        "    elif x < breakpoints[3]:\n",
        "        return slopes[2] * x + intercepts[2]\n",
        "    elif x < breakpoints[4]:\n",
        "        return slopes[3] * x + intercepts[3]\n",
        "    elif x < breakpoints[5]:\n",
        "        return slopes[4] * x + intercepts[4]\n",
        "    elif x < breakpoints[6]:\n",
        "        return slopes[5] * x + intercepts[5]\n",
        "    elif x < breakpoints[7]:\n",
        "        return slopes[6] * x + intercepts[6]\n",
        "    else:\n",
        "        return slopes[7] * x + intercepts[7]\n",
        "\n",
        "\n",
        "# === Make vectorized version of scalar function ===\n",
        "def make_vectorized_pwl(breaks, slopes, intercepts):\n",
        "    return np.vectorize(\n",
        "        lambda x: pwl_approx_scalar(x, breaks, slopes, intercepts), otypes=[np.float32]\n",
        "    )\n",
        "\n",
        "\n",
        "# === Timer utility ===\n",
        "def measure_time(func, *args):\n",
        "    start = time.perf_counter()\n",
        "    result = func(*args)\n",
        "    end = time.perf_counter()\n",
        "    return result, (end - start) * 1000  # return in milliseconds\n",
        "\n",
        "\n",
        "# === Input data ===\n",
        "N, D = 100, 768\n",
        "np_embeddings = np.random.randn(N, D).astype(np.float32)\n",
        "torch_input = torch.tensor(np_embeddings, dtype=torch.float32)\n",
        "\n",
        "# === Ground-truth variance ===\n",
        "with torch.no_grad():\n",
        "    true_var = torch.var(torch_input, dim=-1, unbiased=False, keepdim=True).numpy()\n",
        "\n",
        "# === Prepare input for sqrt/recip\n",
        "sqrt_input = (true_var + 1e-5).flatten()\n",
        "\n",
        "# === Exact functions ===\n",
        "sqrt_exact, t_sqrt_exact = measure_time(np.sqrt, sqrt_input)\n",
        "recip_exact, t_recip_exact = measure_time(np.reciprocal, sqrt_exact)\n",
        "\n",
        "# === PWL (Verilog style vectorized) functions ===\n",
        "sqrt_pwl_func = make_vectorized_pwl(sqrt_breaks, sqrt_slopes, sqrt_intercepts)\n",
        "recip_pwl_func = make_vectorized_pwl(recip_breaks, recip_slopes, recip_intercepts)\n",
        "\n",
        "sqrt_pwl, t_sqrt_pwl = measure_time(sqrt_pwl_func, sqrt_input)\n",
        "recip_pwl, t_recip_pwl = measure_time(recip_pwl_func, sqrt_pwl)\n",
        "\n",
        "# === Accuracy ===\n",
        "acc_sqrt = 100 - np.abs(sqrt_exact - sqrt_pwl) / (sqrt_exact + 1e-8) * 100\n",
        "acc_recip = 100 - np.abs(recip_exact - recip_pwl) / (recip_exact + 1e-8) * 100\n",
        "\n",
        "# === Print results ===\n",
        "print(\"===== Accuracy (% Error) =====\")\n",
        "print(f\"[Sqrt PWL]     Mean Accuracy: {acc_sqrt.mean():.4f}%\")\n",
        "print(f\"[Recip PWL]    Mean Accuracy: {acc_recip.mean():.4f}%\")\n",
        "\n",
        "print(\"\\n===== Timing (ms) =====\")\n",
        "print(f\"[Sqrt Exact]   {t_sqrt_exact:.4f} ms\")\n",
        "print(f\"[Sqrt PWL]     {t_sqrt_pwl:.4f} ms\")\n",
        "print(f\"[Recip Exact]  {t_recip_exact:.4f} ms\")\n",
        "print(f\"[Recip PWL]    {t_recip_pwl:.4f} ms\")"
      ]
    },
    {
      "cell_type": "code",
      "execution_count": null,
      "id": "199d012f",
      "metadata": {},
      "outputs": [],
      "source": []
    }
  ],
  "metadata": {
    "colab": {
      "provenance": []
    },
    "kernelspec": {
      "display_name": "Python 3",
      "language": "python",
      "name": "python3"
    },
    "language_info": {
      "codemirror_mode": {
        "name": "ipython",
        "version": 3
      },
      "file_extension": ".py",
      "mimetype": "text/x-python",
      "name": "python",
      "nbconvert_exporter": "python",
      "pygments_lexer": "ipython3",
      "version": "3.13.0"
    }
  },
  "nbformat": 4,
  "nbformat_minor": 5
}
